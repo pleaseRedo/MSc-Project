{
 "cells": [
  {
   "cell_type": "code",
   "execution_count": 1,
   "metadata": {
    "pycharm": {
     "is_executing": false
    }
   },
   "outputs": [
    {
     "name": "stderr",
     "output_type": "stream",
     "text": [
      "Using TensorFlow backend.\n"
     ]
    }
   ],
   "source": [
    "import tensorflow as tf\n",
    "import numpy as np\n",
    "import pandas as pd\n",
    "import keras\n",
    "import matplotlib.pyplot as plt\n",
    "from tensorflow.keras.datasets import mnist\n",
    "from tensorflow.keras.preprocessing.image import ImageDataGenerator\n",
    "from tensorflow.keras.callbacks import LearningRateScheduler\n",
    "from keras.utils.np_utils import to_categorical\n",
    "from sklearn.model_selection import train_test_split\n",
    "#from keras.datasets import mnist\n",
    "#from keras.preprocessing.image import ImageDataGenerator\n",
    "#from keras.callbacks import LearningRateScheduler\n",
    "#load mnist dataset\n",
    " #everytime loading data won't be so easy :)"
   ]
  },
  {
   "cell_type": "code",
   "execution_count": 2,
   "metadata": {
    "pycharm": {
     "is_executing": false
    }
   },
   "outputs": [
    {
     "name": "stdout",
     "output_type": "stream",
     "text": [
      "(42000, 28, 28, 1)\n",
      "(42000, 10)\n",
      "(28000, 28, 28, 1)\n"
     ]
    }
   ],
   "source": [
    "'''\n",
    "train = pd.read_csv(\"train.csv\")\n",
    "test = pd.read_csv(\"test.csv\")\n",
    "# PREPARE DATA FOR NEURAL NETWORK\n",
    "Y_train_kaggle = train[\"label\"]\n",
    "X_train_kaggle = train.drop(labels = [\"label\"],axis = 1)\n",
    "X_train_kaggle = X_train_kaggle.values.reshape(-1,28,28,1)\n",
    "X_test_kaggle =  test/ 255.0\n",
    "X_test_kaggle = test.values.reshape(-1,28,28,1)\n",
    "Y_train_kaggle = to_categorical(Y_train_kaggle, num_classes = 10)\n",
    "print(X_train_kaggle.shape)\n",
    "print(Y_train_kaggle.shape)\n",
    "print(X_test_kaggle.shape)\n",
    "#print(testing_labels.shape)\n",
    "\n",
    "\n",
    "#print(np.shape(X_train))\n",
    "#print(np.shape(y_train))\n",
    "#print(np.shape(X_test))\n",
    "#print(np.shape(y_test))\n",
    "'''"
   ]
  },
  {
   "cell_type": "code",
   "execution_count": 2,
   "metadata": {
    "pycharm": {
     "is_executing": false
    }
   },
   "outputs": [
    {
     "name": "stdout",
     "output_type": "stream",
     "text": [
      "(60000, 28, 28, 1)\n",
      "(60000, 10)\n",
      "(10000, 28, 28, 1)\n"
     ]
    }
   ],
   "source": [
    "(X_train, Y_train), (X_test, Y_test) = mnist.load_data()\n",
    "X_train = np.expand_dims(X_train, axis=3)\n",
    "X_test = np.expand_dims(X_test, axis=3)\n",
    "\n",
    "train_datagen = ImageDataGenerator(rescale = 1./255. )\n",
    "validation_datagen = ImageDataGenerator(rescale=1. / 255.)\n",
    "Y_train = to_categorical(Y_train, num_classes = 10)\n",
    "print(np.shape(X_train))\n",
    "print(np.shape(Y_train))\n",
    "print(np.shape(X_test))\n",
    "#print(np.shape(Y_test))"
   ]
  },
  {
   "cell_type": "code",
   "execution_count": null,
   "metadata": {},
   "outputs": [],
   "source": [
    "fig = plt.figure()\n",
    "for i in range(9):\n",
    "  plt.subplot(3,3,i+1)\n",
    "  plt.tight_layout()\n",
    "  plt.imshow(X_test_kaggle[i].reshape((28,28)), cmap='gray', interpolation='none')\n",
    "  #plt.title(\"Digit: {}\".format(Y_train[i]))\n",
    "  plt.xticks([])\n",
    "  plt.yticks([])\n",
    "fig"
   ]
  },
  {
   "cell_type": "code",
   "execution_count": null,
   "metadata": {},
   "outputs": [],
   "source": [
    "plt.figure(figsize=(15,4.5))\n",
    "for i in range(30):  \n",
    "    plt.subplot(3, 10, i+1)\n",
    "    plt.imshow(X_test_kaggle[i].reshape((28,28)),cmap=plt.cm.binary)\n",
    "    plt.axis('off')\n",
    "plt.subplots_adjust(wspace=-0.1, hspace=-0.1)\n",
    "plt.show()"
   ]
  },
  {
   "cell_type": "markdown",
   "metadata": {},
   "source": [
    "# Set up different models varies in poolings\n",
    "\n",
    "## 32 64 128 256 512 1024 2048 4096\n",
    "\n",
    "## 2 4 8 16 32"
   ]
  },
  {
   "cell_type": "code",
   "execution_count": 10,
   "metadata": {},
   "outputs": [],
   "source": [
    "nets = 14\n",
    "model = [0] *nets\n",
    "\n",
    "for i in range(nets):\n",
    "    model[i] = tf.keras.models.Sequential()\n",
    "    model[i].add(tf.keras.layers.Conv2D(32, (3, 3), activation='relu', input_shape=(28, 28, 1)))\n",
    "    model[i].add(tf.keras.layers.BatchNormalization()) \n",
    "    model[i].add(tf.keras.layers.Conv2D(32, (3, 3), activation='relu'))\n",
    "    model[i].add(tf.keras.layers.BatchNormalization())\n",
    "    model[i].add(tf.keras.layers.Conv2D(32, (5, 5),strides=2,padding='same', activation='relu'))\n",
    "    model[i].add(tf.keras.layers.BatchNormalization())\n",
    "    model[i].add(tf.keras.layers.Dropout(0.4))\n",
    "    \n",
    "    model[i].add(tf.keras.layers.Conv2D(64, (3, 3), activation='relu'))\n",
    "    model[i].add(tf.keras.layers.BatchNormalization())\n",
    "    model[i].add(tf.keras.layers.Conv2D(64, (3, 3), activation='relu'))\n",
    "    model[i].add(tf.keras.layers.BatchNormalization())\n",
    "    model[i].add(tf.keras.layers.Conv2D(64, (5, 5),strides=2,padding='same', activation='relu'))\n",
    "    model[i].add(tf.keras.layers.BatchNormalization())\n",
    "    model[i].add(tf.keras.layers.Dropout(0.4))    \n",
    "    \n",
    "    model[i].add(tf.keras.layers.Flatten())\n",
    "    model[i].add(tf.keras.layers.Dense(2**(i+1), activation=tf.nn.relu))\n",
    "    model[i].add(tf.keras.layers.BatchNormalization())\n",
    "    model[i].add(tf.keras.layers.Dropout(0.4))\n",
    "    model[i].add(tf.keras.layers.Dense(10, activation=tf.nn.softmax))\n",
    "    model[i].compile(optimizer = 'adam',\n",
    "              loss = 'categorical_crossentropy',\n",
    "              metrics=['accuracy'])"
   ]
  },
  {
   "cell_type": "code",
   "execution_count": 11,
   "metadata": {},
   "outputs": [
    {
     "name": "stdout",
     "output_type": "stream",
     "text": [
      "CNN 2N: Epochs=20, Train accuracy=0.49848, Validation accuracy=0.98273\n",
      "CNN 4N: Epochs=20, Train accuracy=0.69645, Validation accuracy=0.99234\n",
      "CNN 8N: Epochs=20, Train accuracy=0.93043, Validation accuracy=0.99429\n",
      "CNN 16N: Epochs=20, Train accuracy=0.99193, Validation accuracy=0.99384\n",
      "CNN 32N: Epochs=20, Train accuracy=0.99520, Validation accuracy=0.99424\n",
      "CNN 64N: Epochs=20, Train accuracy=0.99585, Validation accuracy=0.99394\n",
      "CNN 128N: Epochs=20, Train accuracy=0.99658, Validation accuracy=0.99399\n",
      "CNN 256N: Epochs=20, Train accuracy=0.99630, Validation accuracy=0.99454\n",
      "CNN 512N: Epochs=20, Train accuracy=0.99680, Validation accuracy=0.99369\n",
      "CNN 1024N: Epochs=20, Train accuracy=0.99685, Validation accuracy=0.99379\n",
      "CNN 2048N: Epochs=20, Train accuracy=0.99675, Validation accuracy=0.99369\n",
      "CNN 4096N: Epochs=20, Train accuracy=0.99620, Validation accuracy=0.99349\n",
      "CNN 8192N: Epochs=20, Train accuracy=0.99695, Validation accuracy=0.99289\n",
      "CNN 16384N: Epochs=20, Train accuracy=0.99505, Validation accuracy=0.99334\n"
     ]
    }
   ],
   "source": [
    "epochs = 20\n",
    "annealer = LearningRateScheduler(lambda x: 1e-3 * 0.95 ** (x+epochs))\n",
    "# Split validation set\n",
    "X_train2, X_val2, Y_train2, Y_val2 = train_test_split(X_train, Y_train, test_size = 0.333)\n",
    "# Training\n",
    "history = [0] * nets\n",
    "names = [\"2N\",\"4N\",\"8N\",\"16N\",\"32N\",\"64N\",\"128N\",\"256N\",\"512N\",\"1024N\",\"2048N\",\"4096N\",\"8192N\",\"16384N\",\"32768N\"]\n",
    "\n",
    "for j in range(nets):\n",
    "    history[j] = model[j].fit(X_train2,Y_train2, batch_size=80, epochs = epochs, \n",
    "        validation_data = (X_val2,Y_val2), callbacks=[annealer], verbose=0)\n",
    "    print(\"CNN {0}: Epochs={1:d}, Train accuracy={2:.5f}, Validation accuracy={3:.5f}\".format(\n",
    "        names[j],epochs,max(history[j].history['acc']),max(history[j].history['val_acc']) ))"
   ]
  },
  {
   "cell_type": "code",
   "execution_count": 12,
   "metadata": {},
   "outputs": [
    {
     "name": "stdout",
     "output_type": "stream",
     "text": [
      "model016384_mnist_02.h5 saved\n",
      "model116384_mnist_02.h5 saved\n",
      "model216384_mnist_02.h5 saved\n",
      "model316384_mnist_02.h5 saved\n",
      "model416384_mnist_02.h5 saved\n",
      "model516384_mnist_02.h5 saved\n",
      "model616384_mnist_02.h5 saved\n",
      "model716384_mnist_02.h5 saved\n",
      "model816384_mnist_02.h5 saved\n",
      "model916384_mnist_02.h5 saved\n",
      "model1016384_mnist_02.h5 saved\n",
      "model1116384_mnist_02.h5 saved\n",
      "model1216384_mnist_02.h5 saved\n",
      "model1316384_mnist_02.h5 saved\n"
     ]
    }
   ],
   "source": [
    "from keras.models import load_model\n",
    "for j in range(nets):\n",
    "    modelname = 'model'+str(j)+'16384_mnist_02'+'.h5'\n",
    "    print(modelname+' saved')\n",
    "    model[j].save(modelname)  # creates a HDF5 file 'my_model.h5'\n",
    "#del model  # deletes the existing model\n"
   ]
  },
  {
   "cell_type": "code",
   "execution_count": 19,
   "metadata": {},
   "outputs": [
    {
     "data": {
      "text/plain": [
       "[0.46371815, 0.74170417, 0.92848575, 0.99150425, 0.9953773]"
      ]
     },
     "execution_count": 19,
     "metadata": {},
     "output_type": "execute_result"
    }
   ],
   "source": [
    "history[0].history['acc'][-1]\n",
    "hi"
   ]
  },
  {
   "cell_type": "code",
   "execution_count": 14,
   "metadata": {},
   "outputs": [
    {
     "data": {
      "image/png": "[encoded data removed]",
      "text/plain": [
       "<Figure size 1080x360 with 1 Axes>"
      ]
     },
     "metadata": {
      "needs_background": "light"
     },
     "output_type": "display_data"
    }
   ],
   "source": [
    "# PLOT ACCURACIES\n",
    "styles=[':','-.','--','-',':','-.','--','-',':','-.','--','-']\n",
    "pooling_size = ['2','4','8','16','32','64','128','256','512','1024','2048','4096','8192','16384']\n",
    "\n",
    "plt.figure(figsize=(15,5))\n",
    "#for i in range(nets):\n",
    "hi = [history[0].history['acc'][-1],history[1].history['acc'][-1],history[2].history['acc'][-1],history[3].history['acc'][-1],history[4].history['acc'][-1],history[5].history['acc'][-1],history[6].history['acc'][-1],history[7].history['acc'][-1],history[8].history['acc'][-1],history[9].history['acc'][-1],history[10].history['acc'][-1],history[11].history['acc'][-1],history[12].history['acc'][-1],history[13].history['acc'][-1]]\n",
    "plt.plot(pooling_size,hi,linestyle=styles[1])\n",
    "plt.title('model accuracy')\n",
    "plt.ylabel('accuracy')\n",
    "plt.xlabel('pooling_size')\n",
    "#plt.legend(names, loc='upper left')\n",
    "axes = plt.gca()\n",
    "#axes.set_ylim([0.98,1])\n",
    "plt.show()"
   ]
  },
  {
   "cell_type": "code",
   "execution_count": null,
   "metadata": {},
   "outputs": [],
   "source": []
  },
  {
   "cell_type": "code",
   "execution_count": 6,
   "metadata": {
    "pycharm": {
     "is_executing": false
    },
    "scrolled": true
   },
   "outputs": [
    {
     "name": "stdout",
     "output_type": "stream",
     "text": [
      "WARNING:tensorflow:From C:\\Users\\Jialin\\Anaconda3\\envs\\tensorflow\\lib\\site-packages\\tensorflow\\python\\ops\\resource_variable_ops.py:435: colocate_with (from tensorflow.python.framework.ops) is deprecated and will be removed in a future version.\n",
      "Instructions for updating:\n",
      "Colocations handled automatically by placer.\n",
      "WARNING:tensorflow:From C:\\Users\\Jialin\\Anaconda3\\envs\\tensorflow\\lib\\site-packages\\tensorflow\\python\\keras\\layers\\core.py:143: calling dropout (from tensorflow.python.ops.nn_ops) with keep_prob is deprecated and will be removed in a future version.\n",
      "Instructions for updating:\n",
      "Please use `rate` instead of `keep_prob`. Rate should be set to `rate = 1 - keep_prob`.\n"
     ]
    }
   ],
   "source": [
    "'''\n",
    "model = tf.keras.models.Sequential([\n",
    "    tf.keras.layers.Conv2D(32, (3, 3), activation='relu', input_shape=(28, 28, 1)),\n",
    "    tf.keras.layers.BatchNormalization(),\n",
    "    tf.keras.layers.Conv2D(32, (3, 3), activation='relu'),\n",
    "    tf.keras.layers.BatchNormalization(),\n",
    "    tf.keras.layers.Conv2D(32, (5, 5),strides=2,padding='same', activation='relu'),\n",
    "    tf.keras.layers.BatchNormalization(),   \n",
    "    tf.keras.layers.Dropout(0.4),\n",
    "    \n",
    "    tf.keras.layers.Conv2D(64, (3, 3), activation='relu'),\n",
    "    tf.keras.layers.BatchNormalization(),\n",
    "    tf.keras.layers.Conv2D(64, (3, 3), activation='relu'),\n",
    "    tf.keras.layers.BatchNormalization(),\n",
    "    tf.keras.layers.Conv2D(64, (5, 5),strides=2,padding='same', activation='relu'),\n",
    "    tf.keras.layers.BatchNormalization(),   \n",
    "    tf.keras.layers.Dropout(0.4),\n",
    "    \n",
    "    tf.keras.layers.Flatten(),\n",
    "    tf.keras.layers.Dense(128, activation=tf.nn.relu),\n",
    "    tf.keras.layers.BatchNormalization(),\n",
    "    tf.keras.layers.Dropout(0.4),   \n",
    "    tf.keras.layers.Dense(10, activation=tf.nn.softmax)])\n",
    "\n",
    "model.compile(optimizer = 'adam',\n",
    "              loss = 'categorical_crossentropy',\n",
    "              metrics=['accuracy'])\n",
    "\n",
    "'''"
   ]
  },
  {
   "cell_type": "code",
   "execution_count": 7,
   "metadata": {},
   "outputs": [
    {
     "name": "stdout",
     "output_type": "stream",
     "text": [
      "WARNING:tensorflow:From C:\\Users\\Jialin\\Anaconda3\\envs\\tensorflow\\lib\\site-packages\\tensorflow\\python\\ops\\math_ops.py:3066: to_int32 (from tensorflow.python.ops.math_ops) is deprecated and will be removed in a future version.\n",
      "Instructions for updating:\n",
      "Use tf.cast instead.\n",
      "Epoch 1/30\n",
      "657/657 [==============================] - 10s 15ms/step - loss: 0.5943 - acc: 0.8166\n",
      "Epoch 2/30\n",
      "657/657 [==============================] - 8s 12ms/step - loss: 0.1445 - acc: 0.9569\n",
      "Epoch 3/30\n",
      "657/657 [==============================] - 8s 12ms/step - loss: 0.0907 - acc: 0.9717\n",
      "Epoch 4/30\n",
      "657/657 [==============================] - 8s 12ms/step - loss: 0.0722 - acc: 0.9781\n",
      "Epoch 5/30\n",
      "657/657 [==============================] - 8s 12ms/step - loss: 0.0601 - acc: 0.9820\n",
      "Epoch 6/30\n",
      "657/657 [==============================] - 8s 12ms/step - loss: 0.0503 - acc: 0.9847\n",
      "Epoch 7/30\n",
      "657/657 [==============================] - 8s 12ms/step - loss: 0.0429 - acc: 0.9866\n",
      "Epoch 8/30\n",
      "657/657 [==============================] - 8s 12ms/step - loss: 0.0407 - acc: 0.9876\n",
      "Epoch 9/30\n",
      "657/657 [==============================] - 8s 12ms/step - loss: 0.0366 - acc: 0.9889\n",
      "Epoch 10/30\n",
      "657/657 [==============================] - 8s 12ms/step - loss: 0.0345 - acc: 0.9894: 0s - loss: 0.0342 - acc: 0\n",
      "Epoch 11/30\n",
      "657/657 [==============================] - 8s 12ms/step - loss: 0.0299 - acc: 0.9905\n",
      "Epoch 12/30\n",
      "657/657 [==============================] - 8s 12ms/step - loss: 0.0265 - acc: 0.9915\n",
      "Epoch 13/30\n",
      "657/657 [==============================] - 8s 12ms/step - loss: 0.0246 - acc: 0.9925\n",
      "Epoch 14/30\n",
      "657/657 [==============================] - 8s 12ms/step - loss: 0.0234 - acc: 0.9925\n",
      "Epoch 15/30\n",
      "657/657 [==============================] - 8s 12ms/step - loss: 0.0222 - acc: 0.9936: 0s - loss: 0.0224 - acc: \n",
      "Epoch 16/30\n",
      "657/657 [==============================] - 8s 12ms/step - loss: 0.0195 - acc: 0.9938\n",
      "Epoch 17/30\n",
      "657/657 [==============================] - 8s 12ms/step - loss: 0.0183 - acc: 0.9943\n",
      "Epoch 18/30\n",
      "657/657 [==============================] - 8s 12ms/step - loss: 0.0176 - acc: 0.9941\n",
      "Epoch 19/30\n",
      "657/657 [==============================] - 8s 12ms/step - loss: 0.0154 - acc: 0.9952\n",
      "Epoch 20/30\n",
      "657/657 [==============================] - 8s 12ms/step - loss: 0.0150 - acc: 0.9955\n",
      "Epoch 21/30\n",
      "657/657 [==============================] - 8s 12ms/step - loss: 0.0130 - acc: 0.9961\n",
      "Epoch 22/30\n",
      "657/657 [==============================] - 8s 12ms/step - loss: 0.0113 - acc: 0.9967\n",
      "Epoch 23/30\n",
      "657/657 [==============================] - 8s 12ms/step - loss: 0.0126 - acc: 0.9963: 0s - loss: 0.0126 - acc:\n",
      "Epoch 24/30\n",
      "657/657 [==============================] - 8s 12ms/step - loss: 0.0126 - acc: 0.9960\n",
      "Epoch 25/30\n",
      "657/657 [==============================] - 8s 12ms/step - loss: 0.0110 - acc: 0.9967\n",
      "Epoch 26/30\n",
      "657/657 [==============================] - 8s 12ms/step - loss: 0.0115 - acc: 0.9964\n",
      "Epoch 27/30\n",
      "657/657 [==============================] - 8s 12ms/step - loss: 0.0101 - acc: 0.9971\n",
      "Epoch 28/30\n",
      "657/657 [==============================] - 8s 12ms/step - loss: 0.0098 - acc: 0.9973\n",
      "Epoch 29/30\n",
      "657/657 [==============================] - 8s 12ms/step - loss: 0.0089 - acc: 0.9971\n",
      "Epoch 30/30\n",
      "657/657 [==============================] - 8s 12ms/step - loss: 0.0099 - acc: 0.9967\n"
     ]
    }
   ],
   "source": [
    "'''\n",
    "epochs = 30\n",
    "annealer = LearningRateScheduler(lambda x: 1e-3 * 0.95 ** (x+epochs))\n",
    "history = model.fit_generator(train_datagen.flow(X_train_kaggle, Y_train_kaggle, batch_size=64),\n",
    "                              steps_per_epoch=(X_train.shape[0]) / 64,\n",
    "                              epochs=epochs,\n",
    "                              callbacks=[annealer])\n",
    "'''"
   ]
  },
  {
   "cell_type": "code",
   "execution_count": null,
   "metadata": {},
   "outputs": [],
   "source": [
    "model.evaluate_generator(validation_datagen.flow(X_test_kaggle,  Y_test_kaggle))"
   ]
  },
  {
   "cell_type": "code",
   "execution_count": null,
   "metadata": {
    "pycharm": {
     "is_executing": false
    }
   },
   "outputs": [],
   "source": [
    "# KAGGLE\n",
    "results = model.predict_generator(validation_datagen.flow(X_test_kaggle))\n",
    "results = np.argmax(results,axis = 1)\n",
    "results = pd.Series(results,name=\"Label\")\n",
    "submission = pd.concat([pd.Series(range(1,28001),name = \"ImageId\"),results],axis = 1)\n",
    "submission.to_csv(\"MNIST-CNN.csv\",index=False)\n",
    "print(results)"
   ]
  },
  {
   "cell_type": "code",
   "execution_count": null,
   "metadata": {},
   "outputs": [],
   "source": []
  },
  {
   "cell_type": "code",
   "execution_count": null,
   "metadata": {},
   "outputs": [],
   "source": []
  }
 ],
 "metadata": {
  "kernelspec": {
   "display_name": "Python 3",
   "language": "python",
   "name": "python3"
  },
  "language_info": {
   "codemirror_mode": {
    "name": "ipython",
    "version": 3
   },
   "file_extension": ".py",
   "mimetype": "text/x-python",
   "name": "python",
   "nbconvert_exporter": "python",
   "pygments_lexer": "ipython3",
   "version": "3.7.3"
  },
  "pycharm": {
   "stem_cell": {
    "cell_type": "raw",
    "metadata": {
     "collapsed": false
    },
    "source": []
   }
  }
 },
 "nbformat": 4,
 "nbformat_minor": 4
}
